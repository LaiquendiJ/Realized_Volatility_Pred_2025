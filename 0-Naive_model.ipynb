{
 "cells": [
  {
   "cell_type": "markdown",
   "metadata": {},
   "source": [
    " # 0. Naive Model\n",
    " \n",
    "Use the realized volatility at of the current 10 min time interval as the predict value of the realized volatility at of the next 10 min. Reproduce the process as the one in the  tutorial notebook."
   ]
  },
  {
   "cell_type": "markdown",
   "metadata": {},
   "source": [
    "## 0.1 Predict the volatility of stock_0 at time 5"
   ]
  },
  {
   "cell_type": "code",
   "execution_count": 10,
   "metadata": {},
   "outputs": [
    {
     "data": {
      "text/html": [
       "<div>\n",
       "<style scoped>\n",
       "    .dataframe tbody tr th:only-of-type {\n",
       "        vertical-align: middle;\n",
       "    }\n",
       "\n",
       "    .dataframe tbody tr th {\n",
       "        vertical-align: top;\n",
       "    }\n",
       "\n",
       "    .dataframe thead th {\n",
       "        text-align: right;\n",
       "    }\n",
       "</style>\n",
       "<table border=\"1\" class=\"dataframe\">\n",
       "  <thead>\n",
       "    <tr style=\"text-align: right;\">\n",
       "      <th></th>\n",
       "      <th>time_id</th>\n",
       "      <th>seconds_in_bucket</th>\n",
       "      <th>bid_price1</th>\n",
       "      <th>ask_price1</th>\n",
       "      <th>bid_price2</th>\n",
       "      <th>ask_price2</th>\n",
       "      <th>bid_size1</th>\n",
       "      <th>ask_size1</th>\n",
       "      <th>bid_size2</th>\n",
       "      <th>ask_size2</th>\n",
       "      <th>stock_id</th>\n",
       "    </tr>\n",
       "  </thead>\n",
       "  <tbody>\n",
       "    <tr>\n",
       "      <th>302</th>\n",
       "      <td>11</td>\n",
       "      <td>0</td>\n",
       "      <td>0.999473</td>\n",
       "      <td>1.000176</td>\n",
       "      <td>0.999423</td>\n",
       "      <td>1.000376</td>\n",
       "      <td>205</td>\n",
       "      <td>100</td>\n",
       "      <td>20</td>\n",
       "      <td>30</td>\n",
       "      <td>0</td>\n",
       "    </tr>\n",
       "    <tr>\n",
       "      <th>303</th>\n",
       "      <td>11</td>\n",
       "      <td>3</td>\n",
       "      <td>0.999473</td>\n",
       "      <td>1.000176</td>\n",
       "      <td>0.999423</td>\n",
       "      <td>1.000376</td>\n",
       "      <td>200</td>\n",
       "      <td>100</td>\n",
       "      <td>20</td>\n",
       "      <td>30</td>\n",
       "      <td>0</td>\n",
       "    </tr>\n",
       "    <tr>\n",
       "      <th>304</th>\n",
       "      <td>11</td>\n",
       "      <td>13</td>\n",
       "      <td>0.999473</td>\n",
       "      <td>1.000326</td>\n",
       "      <td>0.999423</td>\n",
       "      <td>1.000376</td>\n",
       "      <td>200</td>\n",
       "      <td>100</td>\n",
       "      <td>20</td>\n",
       "      <td>30</td>\n",
       "      <td>0</td>\n",
       "    </tr>\n",
       "    <tr>\n",
       "      <th>305</th>\n",
       "      <td>11</td>\n",
       "      <td>18</td>\n",
       "      <td>0.999473</td>\n",
       "      <td>1.000025</td>\n",
       "      <td>0.999423</td>\n",
       "      <td>1.000376</td>\n",
       "      <td>200</td>\n",
       "      <td>100</td>\n",
       "      <td>20</td>\n",
       "      <td>30</td>\n",
       "      <td>0</td>\n",
       "    </tr>\n",
       "    <tr>\n",
       "      <th>306</th>\n",
       "      <td>11</td>\n",
       "      <td>28</td>\n",
       "      <td>0.999473</td>\n",
       "      <td>1.000326</td>\n",
       "      <td>0.999423</td>\n",
       "      <td>1.000376</td>\n",
       "      <td>200</td>\n",
       "      <td>100</td>\n",
       "      <td>20</td>\n",
       "      <td>30</td>\n",
       "      <td>0</td>\n",
       "    </tr>\n",
       "  </tbody>\n",
       "</table>\n",
       "</div>"
      ],
      "text/plain": [
       "     time_id  seconds_in_bucket  bid_price1  ask_price1  bid_price2  \\\n",
       "302       11                  0    0.999473    1.000176    0.999423   \n",
       "303       11                  3    0.999473    1.000176    0.999423   \n",
       "304       11                 13    0.999473    1.000326    0.999423   \n",
       "305       11                 18    0.999473    1.000025    0.999423   \n",
       "306       11                 28    0.999473    1.000326    0.999423   \n",
       "\n",
       "     ask_price2  bid_size1  ask_size1  bid_size2  ask_size2  stock_id  \n",
       "302    1.000376        205        100         20         30         0  \n",
       "303    1.000376        200        100         20         30         0  \n",
       "304    1.000376        200        100         20         30         0  \n",
       "305    1.000376        200        100         20         30         0  \n",
       "306    1.000376        200        100         20         30         0  "
      ]
     },
     "execution_count": 10,
     "metadata": {},
     "output_type": "execute_result"
    }
   ],
   "source": [
    "import numpy as np\n",
    "import pandas as pd\n",
    "import plotly.express as px\n",
    "\n",
    "\n",
    "book_train_0 = pd.read_parquet('data/optiver-realized-volatility-prediction/book_train.parquet/stock_id=0')\n",
    "trade_train_0 = pd.read_parquet('data/optiver-realized-volatility-prediction/trade_train.parquet/stock_id=0')\n",
    "\n",
    "train = pd.read_csv('data/optiver-realized-volatility-prediction/train.csv')\n",
    "\n",
    "stock_id = 0\n",
    "book_train_example = book_train_0[book_train_0['time_id']==11].copy()\n",
    "book_train_example['stock_id'] = stock_id\n",
    "\n",
    "    \n",
    "book_train_example.head()\n"
   ]
  },
  {
   "cell_type": "code",
   "execution_count": 11,
   "metadata": {},
   "outputs": [
    {
     "data": {
      "application/vnd.plotly.v1+json": {
       "config": {
        "plotlyServerURL": "https://plot.ly"
       },
       "data": [
        {
         "hovertemplate": "seconds_in_bucket=%{x}<br>wap=%{y}<extra></extra>",
         "legendgroup": "",
         "line": {
          "color": "#636efa",
          "dash": "solid"
         },
         "marker": {
          "symbol": "circle"
         },
         "mode": "lines",
         "name": "",
         "orientation": "v",
         "showlegend": false,
         "type": "scatter",
         "x": [
          0,
          3,
          13,
          18,
          28,
          44,
          51,
          52,
          62,
          64,
          65,
          66,
          75,
          104,
          107,
          110,
          111,
          112,
          113,
          114,
          116,
          119,
          120,
          127,
          131,
          133,
          135,
          151,
          152,
          153,
          154,
          156,
          162,
          164,
          167,
          168,
          169,
          170,
          171,
          180,
          181,
          184,
          185,
          189,
          191,
          192,
          194,
          199,
          202,
          204,
          207,
          209,
          210,
          212,
          213,
          215,
          220,
          222,
          223,
          224,
          225,
          228,
          235,
          240,
          241,
          246,
          248,
          252,
          256,
          257,
          258,
          267,
          269,
          271,
          272,
          274,
          277,
          279,
          283,
          284,
          285,
          289,
          291,
          292,
          297,
          305,
          307,
          329,
          332,
          333,
          340,
          341,
          342,
          344,
          345,
          346,
          347,
          349,
          350,
          351,
          352,
          353,
          354,
          362,
          363,
          364,
          367,
          368,
          369,
          370,
          371,
          372,
          373,
          374,
          375,
          376,
          377,
          382,
          383,
          384,
          387,
          388,
          389,
          390,
          395,
          397,
          398,
          401,
          402,
          403,
          409,
          410,
          411,
          412,
          413,
          414,
          415,
          416,
          417,
          419,
          423,
          430,
          433,
          436,
          437,
          440,
          450,
          451,
          454,
          459,
          461,
          474,
          477,
          478,
          482,
          485,
          486,
          488,
          491,
          492,
          494,
          496,
          498,
          500,
          523,
          524,
          525,
          527,
          528,
          531,
          532,
          533,
          534,
          535,
          536,
          537,
          538,
          539,
          541,
          544,
          545,
          546,
          547,
          548,
          549,
          552,
          554,
          555,
          556,
          557,
          558,
          563,
          564,
          567,
          568,
          570,
          574,
          584,
          585,
          596
         ],
         "xaxis": "x",
         "y": [
          0.9999453278838611,
          0.9999414881070455,
          1.0000418623288472,
          0.9998411138852438,
          1.0000418623288472,
          1.0000217430461258,
          0.9999988618351164,
          0.9999749606305902,
          0.9997359485853285,
          0.9997359485853285,
          0.9997426742731139,
          0.9997266842438294,
          0.9997450190205728,
          0.9997443612664938,
          0.9997443612664938,
          0.9997575276238577,
          0.9997575276238577,
          0.9997575276238577,
          0.9997575276238577,
          0.9997539705243604,
          0.999966711620164,
          0.9996997783631842,
          0.9996997783631842,
          0.9997261855660415,
          0.9999646406907302,
          0.9999357374703012,
          1.00000769264844,
          1.00000769264844,
          1.00000769264844,
          1.0000150680541993,
          1.00000769264844,
          1.00000769264844,
          1.0000337216912247,
          0.9999520995400168,
          1.000108778476715,
          1.000108778476715,
          1.000108778476715,
          1.000101222145942,
          1.000108778476715,
          1.000101222145942,
          1.000108778476715,
          1.0001997345996694,
          1.0002003403173552,
          1.0001997345996694,
          1.0001997345996694,
          0.9999736703088131,
          0.9999740782744027,
          0.9999740782744027,
          1.0001130566833922,
          1.0001131336630127,
          1.0001131717975322,
          1.0001131336630127,
          1.000112939404096,
          1.0001129787415266,
          1.0001129787415266,
          1.0001130178338642,
          1.0001128599846776,
          1.0001128599846776,
          1.0001128599846776,
          1.0001128599846776,
          1.0001128599846776,
          1.0001128599846776,
          1.00011289981926,
          1.0001128599846776,
          1.0001128599846776,
          1.0001127389585895,
          1.0000188336280234,
          1.0001229283107522,
          1.0001229283107522,
          1.0001229283107522,
          1.0000349117649927,
          1.0000441428777334,
          1.0000458184410543,
          1.0001817977789678,
          1.0001929215022496,
          1.0001817977789678,
          1.0001929215022496,
          1.0001980198754206,
          1.000201617517779,
          1.0001828840800695,
          1.0001957893371582,
          1.0001828840800695,
          1.0001834355867827,
          1.0001972232546126,
          1.0002091725667317,
          1.0002426306406658,
          1.0002395889975808,
          1.0002395889975808,
          1.0002395889975808,
          1.0001596682736662,
          1.0001772828400135,
          1.0002259016036987,
          1.0002291746761487,
          1.0002330711909704,
          1.0002330711909704,
          1.0002330711909704,
          1.0002364058827244,
          1.0002364058827244,
          1.0002330711909704,
          1.0002330711909704,
          1.0002395889975808,
          1.0002924287041952,
          1.00029616355896,
          1.000144830116859,
          1.000144115200749,
          1.0003320429704885,
          1.000327364326044,
          1.000325112350729,
          1.000325112350729,
          1.0003239565556592,
          1.000325112350729,
          1.0003239565556592,
          1.0003239565556592,
          1.0003245320568606,
          1.0003245363731195,
          1.0003239641848363,
          1.0003239641848363,
          1.000323971763986,
          1.0002291779136092,
          1.0002291779136092,
          1.0002300591158444,
          1.0002300591158444,
          1.0001538858980938,
          1.0001538858980938,
          1.0001905743636232,
          1.0002433922451743,
          1.0002438368094753,
          1.0002438368094753,
          1.0002438368094753,
          1.0002460388892547,
          1.0002438368094753,
          1.0002532763914629,
          1.0003327515817457,
          1.0003327515817457,
          1.0003306399221006,
          1.0003306399221006,
          1.0004226427114509,
          1.0004227174751794,
          1.0004226427114509,
          1.0004722573458016,
          1.0004722573458016,
          1.0004722573458016,
          1.0004722573458016,
          1.0004722573458016,
          1.0004735190021106,
          1.0003646752164033,
          1.0002273849665826,
          1.0003646752164033,
          1.0003739743193318,
          1.0003646752164033,
          1.0003646752164033,
          1.0003295347288057,
          1.0003295347288057,
          1.0003646752164033,
          1.0001577269162563,
          1.0003160417658612,
          1.0003210831745504,
          1.0003175052624305,
          1.0003210831745504,
          1.0003179880457187,
          1.0003189670229422,
          1.0003189670229422,
          1.0003189670229422,
          1.0003189670229422,
          1.000374972230137,
          1.0003222608566285,
          1.0003234242851085,
          1.0003251220988132,
          1.0003801351640282,
          1.0004282955263482,
          1.00042893871034,
          1.0002902926139112,
          1.0002925050592868,
          1.0004057993635462,
          1.000683321271624,
          1.0007394441338473,
          1.0006775856018066,
          1.0006660039608295,
          1.0008056948059483,
          1.0008056948059483,
          1.0008056948059483,
          1.0008261979204938,
          1.00082715802592,
          1.0008334512633037,
          1.000833632974972,
          1.0008332680682748,
          1.0008332680682748,
          1.0008341693878173,
          1.0008343453426285,
          1.0008341693878173,
          1.0008341693878173,
          1.0008341693878173,
          1.0008341693878173,
          1.0003577886625779,
          1.0007543608686393,
          1.0007543608686393,
          1.0007421118872506,
          1.0002912969300242,
          1.0002912969300242,
          1.0003056105445414
         ],
         "yaxis": "y"
        }
       ],
       "layout": {
        "legend": {
         "tracegroupgap": 0
        },
        "template": {
         "data": {
          "bar": [
           {
            "error_x": {
             "color": "#2a3f5f"
            },
            "error_y": {
             "color": "#2a3f5f"
            },
            "marker": {
             "line": {
              "color": "#E5ECF6",
              "width": 0.5
             },
             "pattern": {
              "fillmode": "overlay",
              "size": 10,
              "solidity": 0.2
             }
            },
            "type": "bar"
           }
          ],
          "barpolar": [
           {
            "marker": {
             "line": {
              "color": "#E5ECF6",
              "width": 0.5
             },
             "pattern": {
              "fillmode": "overlay",
              "size": 10,
              "solidity": 0.2
             }
            },
            "type": "barpolar"
           }
          ],
          "carpet": [
           {
            "aaxis": {
             "endlinecolor": "#2a3f5f",
             "gridcolor": "white",
             "linecolor": "white",
             "minorgridcolor": "white",
             "startlinecolor": "#2a3f5f"
            },
            "baxis": {
             "endlinecolor": "#2a3f5f",
             "gridcolor": "white",
             "linecolor": "white",
             "minorgridcolor": "white",
             "startlinecolor": "#2a3f5f"
            },
            "type": "carpet"
           }
          ],
          "choropleth": [
           {
            "colorbar": {
             "outlinewidth": 0,
             "ticks": ""
            },
            "type": "choropleth"
           }
          ],
          "contour": [
           {
            "colorbar": {
             "outlinewidth": 0,
             "ticks": ""
            },
            "colorscale": [
             [
              0,
              "#0d0887"
             ],
             [
              0.1111111111111111,
              "#46039f"
             ],
             [
              0.2222222222222222,
              "#7201a8"
             ],
             [
              0.3333333333333333,
              "#9c179e"
             ],
             [
              0.4444444444444444,
              "#bd3786"
             ],
             [
              0.5555555555555556,
              "#d8576b"
             ],
             [
              0.6666666666666666,
              "#ed7953"
             ],
             [
              0.7777777777777778,
              "#fb9f3a"
             ],
             [
              0.8888888888888888,
              "#fdca26"
             ],
             [
              1,
              "#f0f921"
             ]
            ],
            "type": "contour"
           }
          ],
          "contourcarpet": [
           {
            "colorbar": {
             "outlinewidth": 0,
             "ticks": ""
            },
            "type": "contourcarpet"
           }
          ],
          "heatmap": [
           {
            "colorbar": {
             "outlinewidth": 0,
             "ticks": ""
            },
            "colorscale": [
             [
              0,
              "#0d0887"
             ],
             [
              0.1111111111111111,
              "#46039f"
             ],
             [
              0.2222222222222222,
              "#7201a8"
             ],
             [
              0.3333333333333333,
              "#9c179e"
             ],
             [
              0.4444444444444444,
              "#bd3786"
             ],
             [
              0.5555555555555556,
              "#d8576b"
             ],
             [
              0.6666666666666666,
              "#ed7953"
             ],
             [
              0.7777777777777778,
              "#fb9f3a"
             ],
             [
              0.8888888888888888,
              "#fdca26"
             ],
             [
              1,
              "#f0f921"
             ]
            ],
            "type": "heatmap"
           }
          ],
          "heatmapgl": [
           {
            "colorbar": {
             "outlinewidth": 0,
             "ticks": ""
            },
            "colorscale": [
             [
              0,
              "#0d0887"
             ],
             [
              0.1111111111111111,
              "#46039f"
             ],
             [
              0.2222222222222222,
              "#7201a8"
             ],
             [
              0.3333333333333333,
              "#9c179e"
             ],
             [
              0.4444444444444444,
              "#bd3786"
             ],
             [
              0.5555555555555556,
              "#d8576b"
             ],
             [
              0.6666666666666666,
              "#ed7953"
             ],
             [
              0.7777777777777778,
              "#fb9f3a"
             ],
             [
              0.8888888888888888,
              "#fdca26"
             ],
             [
              1,
              "#f0f921"
             ]
            ],
            "type": "heatmapgl"
           }
          ],
          "histogram": [
           {
            "marker": {
             "pattern": {
              "fillmode": "overlay",
              "size": 10,
              "solidity": 0.2
             }
            },
            "type": "histogram"
           }
          ],
          "histogram2d": [
           {
            "colorbar": {
             "outlinewidth": 0,
             "ticks": ""
            },
            "colorscale": [
             [
              0,
              "#0d0887"
             ],
             [
              0.1111111111111111,
              "#46039f"
             ],
             [
              0.2222222222222222,
              "#7201a8"
             ],
             [
              0.3333333333333333,
              "#9c179e"
             ],
             [
              0.4444444444444444,
              "#bd3786"
             ],
             [
              0.5555555555555556,
              "#d8576b"
             ],
             [
              0.6666666666666666,
              "#ed7953"
             ],
             [
              0.7777777777777778,
              "#fb9f3a"
             ],
             [
              0.8888888888888888,
              "#fdca26"
             ],
             [
              1,
              "#f0f921"
             ]
            ],
            "type": "histogram2d"
           }
          ],
          "histogram2dcontour": [
           {
            "colorbar": {
             "outlinewidth": 0,
             "ticks": ""
            },
            "colorscale": [
             [
              0,
              "#0d0887"
             ],
             [
              0.1111111111111111,
              "#46039f"
             ],
             [
              0.2222222222222222,
              "#7201a8"
             ],
             [
              0.3333333333333333,
              "#9c179e"
             ],
             [
              0.4444444444444444,
              "#bd3786"
             ],
             [
              0.5555555555555556,
              "#d8576b"
             ],
             [
              0.6666666666666666,
              "#ed7953"
             ],
             [
              0.7777777777777778,
              "#fb9f3a"
             ],
             [
              0.8888888888888888,
              "#fdca26"
             ],
             [
              1,
              "#f0f921"
             ]
            ],
            "type": "histogram2dcontour"
           }
          ],
          "mesh3d": [
           {
            "colorbar": {
             "outlinewidth": 0,
             "ticks": ""
            },
            "type": "mesh3d"
           }
          ],
          "parcoords": [
           {
            "line": {
             "colorbar": {
              "outlinewidth": 0,
              "ticks": ""
             }
            },
            "type": "parcoords"
           }
          ],
          "pie": [
           {
            "automargin": true,
            "type": "pie"
           }
          ],
          "scatter": [
           {
            "fillpattern": {
             "fillmode": "overlay",
             "size": 10,
             "solidity": 0.2
            },
            "type": "scatter"
           }
          ],
          "scatter3d": [
           {
            "line": {
             "colorbar": {
              "outlinewidth": 0,
              "ticks": ""
             }
            },
            "marker": {
             "colorbar": {
              "outlinewidth": 0,
              "ticks": ""
             }
            },
            "type": "scatter3d"
           }
          ],
          "scattercarpet": [
           {
            "marker": {
             "colorbar": {
              "outlinewidth": 0,
              "ticks": ""
             }
            },
            "type": "scattercarpet"
           }
          ],
          "scattergeo": [
           {
            "marker": {
             "colorbar": {
              "outlinewidth": 0,
              "ticks": ""
             }
            },
            "type": "scattergeo"
           }
          ],
          "scattergl": [
           {
            "marker": {
             "colorbar": {
              "outlinewidth": 0,
              "ticks": ""
             }
            },
            "type": "scattergl"
           }
          ],
          "scattermapbox": [
           {
            "marker": {
             "colorbar": {
              "outlinewidth": 0,
              "ticks": ""
             }
            },
            "type": "scattermapbox"
           }
          ],
          "scatterpolar": [
           {
            "marker": {
             "colorbar": {
              "outlinewidth": 0,
              "ticks": ""
             }
            },
            "type": "scatterpolar"
           }
          ],
          "scatterpolargl": [
           {
            "marker": {
             "colorbar": {
              "outlinewidth": 0,
              "ticks": ""
             }
            },
            "type": "scatterpolargl"
           }
          ],
          "scatterternary": [
           {
            "marker": {
             "colorbar": {
              "outlinewidth": 0,
              "ticks": ""
             }
            },
            "type": "scatterternary"
           }
          ],
          "surface": [
           {
            "colorbar": {
             "outlinewidth": 0,
             "ticks": ""
            },
            "colorscale": [
             [
              0,
              "#0d0887"
             ],
             [
              0.1111111111111111,
              "#46039f"
             ],
             [
              0.2222222222222222,
              "#7201a8"
             ],
             [
              0.3333333333333333,
              "#9c179e"
             ],
             [
              0.4444444444444444,
              "#bd3786"
             ],
             [
              0.5555555555555556,
              "#d8576b"
             ],
             [
              0.6666666666666666,
              "#ed7953"
             ],
             [
              0.7777777777777778,
              "#fb9f3a"
             ],
             [
              0.8888888888888888,
              "#fdca26"
             ],
             [
              1,
              "#f0f921"
             ]
            ],
            "type": "surface"
           }
          ],
          "table": [
           {
            "cells": {
             "fill": {
              "color": "#EBF0F8"
             },
             "line": {
              "color": "white"
             }
            },
            "header": {
             "fill": {
              "color": "#C8D4E3"
             },
             "line": {
              "color": "white"
             }
            },
            "type": "table"
           }
          ]
         },
         "layout": {
          "annotationdefaults": {
           "arrowcolor": "#2a3f5f",
           "arrowhead": 0,
           "arrowwidth": 1
          },
          "autotypenumbers": "strict",
          "coloraxis": {
           "colorbar": {
            "outlinewidth": 0,
            "ticks": ""
           }
          },
          "colorscale": {
           "diverging": [
            [
             0,
             "#8e0152"
            ],
            [
             0.1,
             "#c51b7d"
            ],
            [
             0.2,
             "#de77ae"
            ],
            [
             0.3,
             "#f1b6da"
            ],
            [
             0.4,
             "#fde0ef"
            ],
            [
             0.5,
             "#f7f7f7"
            ],
            [
             0.6,
             "#e6f5d0"
            ],
            [
             0.7,
             "#b8e186"
            ],
            [
             0.8,
             "#7fbc41"
            ],
            [
             0.9,
             "#4d9221"
            ],
            [
             1,
             "#276419"
            ]
           ],
           "sequential": [
            [
             0,
             "#0d0887"
            ],
            [
             0.1111111111111111,
             "#46039f"
            ],
            [
             0.2222222222222222,
             "#7201a8"
            ],
            [
             0.3333333333333333,
             "#9c179e"
            ],
            [
             0.4444444444444444,
             "#bd3786"
            ],
            [
             0.5555555555555556,
             "#d8576b"
            ],
            [
             0.6666666666666666,
             "#ed7953"
            ],
            [
             0.7777777777777778,
             "#fb9f3a"
            ],
            [
             0.8888888888888888,
             "#fdca26"
            ],
            [
             1,
             "#f0f921"
            ]
           ],
           "sequentialminus": [
            [
             0,
             "#0d0887"
            ],
            [
             0.1111111111111111,
             "#46039f"
            ],
            [
             0.2222222222222222,
             "#7201a8"
            ],
            [
             0.3333333333333333,
             "#9c179e"
            ],
            [
             0.4444444444444444,
             "#bd3786"
            ],
            [
             0.5555555555555556,
             "#d8576b"
            ],
            [
             0.6666666666666666,
             "#ed7953"
            ],
            [
             0.7777777777777778,
             "#fb9f3a"
            ],
            [
             0.8888888888888888,
             "#fdca26"
            ],
            [
             1,
             "#f0f921"
            ]
           ]
          },
          "colorway": [
           "#636efa",
           "#EF553B",
           "#00cc96",
           "#ab63fa",
           "#FFA15A",
           "#19d3f3",
           "#FF6692",
           "#B6E880",
           "#FF97FF",
           "#FECB52"
          ],
          "font": {
           "color": "#2a3f5f"
          },
          "geo": {
           "bgcolor": "white",
           "lakecolor": "white",
           "landcolor": "#E5ECF6",
           "showlakes": true,
           "showland": true,
           "subunitcolor": "white"
          },
          "hoverlabel": {
           "align": "left"
          },
          "hovermode": "closest",
          "mapbox": {
           "style": "light"
          },
          "paper_bgcolor": "white",
          "plot_bgcolor": "#E5ECF6",
          "polar": {
           "angularaxis": {
            "gridcolor": "white",
            "linecolor": "white",
            "ticks": ""
           },
           "bgcolor": "#E5ECF6",
           "radialaxis": {
            "gridcolor": "white",
            "linecolor": "white",
            "ticks": ""
           }
          },
          "scene": {
           "xaxis": {
            "backgroundcolor": "#E5ECF6",
            "gridcolor": "white",
            "gridwidth": 2,
            "linecolor": "white",
            "showbackground": true,
            "ticks": "",
            "zerolinecolor": "white"
           },
           "yaxis": {
            "backgroundcolor": "#E5ECF6",
            "gridcolor": "white",
            "gridwidth": 2,
            "linecolor": "white",
            "showbackground": true,
            "ticks": "",
            "zerolinecolor": "white"
           },
           "zaxis": {
            "backgroundcolor": "#E5ECF6",
            "gridcolor": "white",
            "gridwidth": 2,
            "linecolor": "white",
            "showbackground": true,
            "ticks": "",
            "zerolinecolor": "white"
           }
          },
          "shapedefaults": {
           "line": {
            "color": "#2a3f5f"
           }
          },
          "ternary": {
           "aaxis": {
            "gridcolor": "white",
            "linecolor": "white",
            "ticks": ""
           },
           "baxis": {
            "gridcolor": "white",
            "linecolor": "white",
            "ticks": ""
           },
           "bgcolor": "#E5ECF6",
           "caxis": {
            "gridcolor": "white",
            "linecolor": "white",
            "ticks": ""
           }
          },
          "title": {
           "x": 0.05
          },
          "xaxis": {
           "automargin": true,
           "gridcolor": "white",
           "linecolor": "white",
           "ticks": "",
           "title": {
            "standoff": 15
           },
           "zerolinecolor": "white",
           "zerolinewidth": 2
          },
          "yaxis": {
           "automargin": true,
           "gridcolor": "white",
           "linecolor": "white",
           "ticks": "",
           "title": {
            "standoff": 15
           },
           "zerolinecolor": "white",
           "zerolinewidth": 2
          }
         }
        },
        "title": {
         "text": "WAP of stock_id_0, time_id_5"
        },
        "xaxis": {
         "anchor": "y",
         "domain": [
          0,
          1
         ],
         "title": {
          "text": "seconds_in_bucket"
         }
        },
        "yaxis": {
         "anchor": "x",
         "domain": [
          0,
          1
         ],
         "title": {
          "text": "wap"
         }
        }
       }
      }
     },
     "metadata": {},
     "output_type": "display_data"
    }
   ],
   "source": [
    "book_train_example['wap'] = (book_train_example['bid_price1'] * book_train_example['ask_size1'] +\n",
    "                                book_train_example['ask_price1'] * book_train_example['bid_size1']) / (\n",
    "                                       book_train_example['bid_size1']+ book_train_example['ask_size1'])\n",
    "fig = px.line(book_train_example, x=\"seconds_in_bucket\", y=\"wap\", title='WAP of stock_id_0, time_id_5')\n",
    "fig.show()"
   ]
  },
  {
   "cell_type": "code",
   "execution_count": 12,
   "metadata": {},
   "outputs": [
    {
     "data": {
      "application/vnd.plotly.v1+json": {
       "config": {
        "plotlyServerURL": "https://plot.ly"
       },
       "data": [
        {
         "hovertemplate": "seconds_in_bucket=%{x}<br>log_return=%{y}<extra></extra>",
         "legendgroup": "",
         "line": {
          "color": "#636efa",
          "dash": "solid"
         },
         "marker": {
          "symbol": "circle"
         },
         "mode": "lines",
         "name": "",
         "orientation": "v",
         "showlegend": false,
         "type": "scatter",
         "x": [
          0,
          3,
          13,
          18,
          28,
          44,
          51,
          52,
          62,
          64,
          65,
          66,
          75,
          104,
          107,
          110,
          111,
          112,
          113,
          114,
          116,
          119,
          120,
          127,
          131,
          133,
          135,
          151,
          152,
          153,
          154,
          156,
          162,
          164,
          167,
          168,
          169,
          170,
          171,
          180,
          181,
          184,
          185,
          189,
          191,
          192,
          194,
          199,
          202,
          204,
          207,
          209,
          210,
          212,
          213,
          215,
          220,
          222,
          223,
          224,
          225,
          228,
          235,
          240,
          241,
          246,
          248,
          252,
          256,
          257,
          258,
          267,
          269,
          271,
          272,
          274,
          277,
          279,
          283,
          284,
          285,
          289,
          291,
          292,
          297,
          305,
          307,
          329,
          332,
          333,
          340,
          341,
          342,
          344,
          345,
          346,
          347,
          349,
          350,
          351,
          352,
          353,
          354,
          362,
          363,
          364,
          367,
          368,
          369,
          370,
          371,
          372,
          373,
          374,
          375,
          376,
          377,
          382,
          383,
          384,
          387,
          388,
          389,
          390,
          395,
          397,
          398,
          401,
          402,
          403,
          409,
          410,
          411,
          412,
          413,
          414,
          415,
          416,
          417,
          419,
          423,
          430,
          433,
          436,
          437,
          440,
          450,
          451,
          454,
          459,
          461,
          474,
          477,
          478,
          482,
          485,
          486,
          488,
          491,
          492,
          494,
          496,
          498,
          500,
          523,
          524,
          525,
          527,
          528,
          531,
          532,
          533,
          534,
          535,
          536,
          537,
          538,
          539,
          541,
          544,
          545,
          546,
          547,
          548,
          549,
          552,
          554,
          555,
          556,
          557,
          558,
          563,
          564,
          567,
          568,
          570,
          574,
          584,
          585,
          596
         ],
         "xaxis": "x",
         "y": [
          null,
          -0.000003839994128587219,
          0.00010037505748639779,
          -0.00020076019113647595,
          0.00020076019113647595,
          -0.000020118642895152942,
          -0.000022880975280460342,
          -0.000023901517368755283,
          -0.00023904659948426556,
          0,
          0.000006727441552518065,
          -0.000015994272897226704,
          0.000018339621124900674,
          -6.579220529658709e-7,
          0,
          0.000013169637335448843,
          0,
          0,
          0,
          -0.000003557968534399227,
          0.00021277081194964525,
          -0.0002669777784469831,
          0,
          0.000026414784378345527,
          0.0002384919935501086,
          -0.000028904660198747145,
          0.00007195721347540816,
          0,
          0,
          0.000007375321825515638,
          -0.000007375321825515638,
          0,
          0.000026028503809523846,
          -0.00008162272990810509,
          0.00015667416801242647,
          0,
          0,
          -0.000007555537439347818,
          0.000007555537439347818,
          -0.000007555537439347818,
          0.000007555537439347818,
          0.00009094209460428661,
          6.055965437930808e-7,
          -6.055965437930808e-7,
          0,
          -0.00022604469318917165,
          4.0797624820131895e-7,
          0,
          0.00013897235453813042,
          7.697091541682144e-8,
          3.8130205005348894e-8,
          -3.8130205005348894e-8,
          -1.942369608575709e-7,
          3.933298762840115e-8,
          0,
          3.908792072114986e-8,
          -1.5783136130875298e-7,
          0,
          0,
          0,
          0,
          0,
          3.983008650517903e-8,
          -3.983008650517903e-8,
          0,
          -1.2101243790115358e-7,
          -0.00009389915335794408,
          0.0001040873050137737,
          0,
          0,
          -0.00008800960009535696,
          0.000009230747873976498,
          0.0000016754879564270344,
          0.0001359638643324764,
          0.000011121639535553398,
          -0.000011121639535553398,
          0.000011121639535553398,
          0.00000509737678323525,
          0.000003596923625879227,
          -0.000018729836883971265,
          0.000012902814112569777,
          -0.000012902814112569777,
          5.514057178073069e-7,
          0.00001378504413064447,
          0.000011946884537284547,
          0.000033450517411659226,
          -0.0000030409098917239484,
          0,
          0,
          -0.0000799047726763798,
          0.000017611599223770733,
          0.000048608964505642786,
          0.0000032723278705668155,
          0.000003895614455852399,
          0,
          0,
          0.0000033339091571099784,
          0,
          -0.0000033339091571099784,
          0,
          0.000006516266620547068,
          0.000052825654535032236,
          0.0000037337559348684258,
          -0.0001513000812002638,
          -7.148128389560221e-7,
          0.00018788303927004424,
          -0.0000046771023868217546,
          -0.000002251240873812042,
          0,
          -0.000001155420096244763,
          0.000001155420096244763,
          -0.000001155420096244763,
          0,
          5.753146588584313e-7,
          4.3148585866402064e-9,
          -5.720028111278028e-7,
          0,
          7.576695145686697e-9,
          -0.00009476764010296626,
          0,
          8.809999412832362e-7,
          0,
          -0.00007615859743049445,
          0,
          0.0000366821477624044,
          0.00005280642345111241,
          4.444560249832353e-7,
          0,
          0,
          0.0000022015405388080105,
          -0.0000022015405388080105,
          0.000009437236300322135,
          0.00007945190980381358,
          0,
          -0.000002110959448862256,
          0,
          0.00009196815040986316,
          7.473214075321517e-8,
          -7.473214075321517e-8,
          0.00004959244422029677,
          0,
          0,
          0,
          0,
          0.0000012610599686361363,
          -0.0001087981888082459,
          -0.00013724962001862142,
          0.00013724962001862142,
          0.000009295669807545838,
          -0.000009295669807545838,
          0,
          -0.0000351282943955123,
          0,
          0.0000351282943955123,
          -0.00020689425988390967,
          0.0001582773565081387,
          0.000005039803197031919,
          -0.0000035767700779090815,
          0.0000035767700779090815,
          -0.000003094140143719852,
          9.78665540520918e-7,
          0,
          0,
          0,
          0.00005598578184354226,
          -0.00005269300386781246,
          0.0000011630529969804907,
          0.0000016972633277409542,
          0.00005499367288530659,
          0.00004814090303747776,
          6.429084302854481e-7,
          -0.0001385962552666049,
          0.000002211800859374866,
          0.0001132547612301988,
          0.0002773708646908151,
          0.00005608296578627186,
          -0.00006181473540127404,
          -0.00001157386571468545,
          0.0001395881295065737,
          0,
          0,
          0.000020486398743656048,
          9.59312383856008e-7,
          0.000006288016414445234,
          1.8156033019655227e-7,
          -3.646028188937457e-7,
          0,
          9.005687215476879e-7,
          1.7580814192842166e-7,
          -1.7580814192842166e-7,
          0,
          0,
          0,
          -0.0004760969904175986,
          0.0003963518100132513,
          0,
          -0.000012239823107984484,
          -0.00045058214707178367,
          0,
          0.00001430934384029993
         ],
         "yaxis": "y"
        }
       ],
       "layout": {
        "legend": {
         "tracegroupgap": 0
        },
        "template": {
         "data": {
          "bar": [
           {
            "error_x": {
             "color": "#2a3f5f"
            },
            "error_y": {
             "color": "#2a3f5f"
            },
            "marker": {
             "line": {
              "color": "#E5ECF6",
              "width": 0.5
             },
             "pattern": {
              "fillmode": "overlay",
              "size": 10,
              "solidity": 0.2
             }
            },
            "type": "bar"
           }
          ],
          "barpolar": [
           {
            "marker": {
             "line": {
              "color": "#E5ECF6",
              "width": 0.5
             },
             "pattern": {
              "fillmode": "overlay",
              "size": 10,
              "solidity": 0.2
             }
            },
            "type": "barpolar"
           }
          ],
          "carpet": [
           {
            "aaxis": {
             "endlinecolor": "#2a3f5f",
             "gridcolor": "white",
             "linecolor": "white",
             "minorgridcolor": "white",
             "startlinecolor": "#2a3f5f"
            },
            "baxis": {
             "endlinecolor": "#2a3f5f",
             "gridcolor": "white",
             "linecolor": "white",
             "minorgridcolor": "white",
             "startlinecolor": "#2a3f5f"
            },
            "type": "carpet"
           }
          ],
          "choropleth": [
           {
            "colorbar": {
             "outlinewidth": 0,
             "ticks": ""
            },
            "type": "choropleth"
           }
          ],
          "contour": [
           {
            "colorbar": {
             "outlinewidth": 0,
             "ticks": ""
            },
            "colorscale": [
             [
              0,
              "#0d0887"
             ],
             [
              0.1111111111111111,
              "#46039f"
             ],
             [
              0.2222222222222222,
              "#7201a8"
             ],
             [
              0.3333333333333333,
              "#9c179e"
             ],
             [
              0.4444444444444444,
              "#bd3786"
             ],
             [
              0.5555555555555556,
              "#d8576b"
             ],
             [
              0.6666666666666666,
              "#ed7953"
             ],
             [
              0.7777777777777778,
              "#fb9f3a"
             ],
             [
              0.8888888888888888,
              "#fdca26"
             ],
             [
              1,
              "#f0f921"
             ]
            ],
            "type": "contour"
           }
          ],
          "contourcarpet": [
           {
            "colorbar": {
             "outlinewidth": 0,
             "ticks": ""
            },
            "type": "contourcarpet"
           }
          ],
          "heatmap": [
           {
            "colorbar": {
             "outlinewidth": 0,
             "ticks": ""
            },
            "colorscale": [
             [
              0,
              "#0d0887"
             ],
             [
              0.1111111111111111,
              "#46039f"
             ],
             [
              0.2222222222222222,
              "#7201a8"
             ],
             [
              0.3333333333333333,
              "#9c179e"
             ],
             [
              0.4444444444444444,
              "#bd3786"
             ],
             [
              0.5555555555555556,
              "#d8576b"
             ],
             [
              0.6666666666666666,
              "#ed7953"
             ],
             [
              0.7777777777777778,
              "#fb9f3a"
             ],
             [
              0.8888888888888888,
              "#fdca26"
             ],
             [
              1,
              "#f0f921"
             ]
            ],
            "type": "heatmap"
           }
          ],
          "heatmapgl": [
           {
            "colorbar": {
             "outlinewidth": 0,
             "ticks": ""
            },
            "colorscale": [
             [
              0,
              "#0d0887"
             ],
             [
              0.1111111111111111,
              "#46039f"
             ],
             [
              0.2222222222222222,
              "#7201a8"
             ],
             [
              0.3333333333333333,
              "#9c179e"
             ],
             [
              0.4444444444444444,
              "#bd3786"
             ],
             [
              0.5555555555555556,
              "#d8576b"
             ],
             [
              0.6666666666666666,
              "#ed7953"
             ],
             [
              0.7777777777777778,
              "#fb9f3a"
             ],
             [
              0.8888888888888888,
              "#fdca26"
             ],
             [
              1,
              "#f0f921"
             ]
            ],
            "type": "heatmapgl"
           }
          ],
          "histogram": [
           {
            "marker": {
             "pattern": {
              "fillmode": "overlay",
              "size": 10,
              "solidity": 0.2
             }
            },
            "type": "histogram"
           }
          ],
          "histogram2d": [
           {
            "colorbar": {
             "outlinewidth": 0,
             "ticks": ""
            },
            "colorscale": [
             [
              0,
              "#0d0887"
             ],
             [
              0.1111111111111111,
              "#46039f"
             ],
             [
              0.2222222222222222,
              "#7201a8"
             ],
             [
              0.3333333333333333,
              "#9c179e"
             ],
             [
              0.4444444444444444,
              "#bd3786"
             ],
             [
              0.5555555555555556,
              "#d8576b"
             ],
             [
              0.6666666666666666,
              "#ed7953"
             ],
             [
              0.7777777777777778,
              "#fb9f3a"
             ],
             [
              0.8888888888888888,
              "#fdca26"
             ],
             [
              1,
              "#f0f921"
             ]
            ],
            "type": "histogram2d"
           }
          ],
          "histogram2dcontour": [
           {
            "colorbar": {
             "outlinewidth": 0,
             "ticks": ""
            },
            "colorscale": [
             [
              0,
              "#0d0887"
             ],
             [
              0.1111111111111111,
              "#46039f"
             ],
             [
              0.2222222222222222,
              "#7201a8"
             ],
             [
              0.3333333333333333,
              "#9c179e"
             ],
             [
              0.4444444444444444,
              "#bd3786"
             ],
             [
              0.5555555555555556,
              "#d8576b"
             ],
             [
              0.6666666666666666,
              "#ed7953"
             ],
             [
              0.7777777777777778,
              "#fb9f3a"
             ],
             [
              0.8888888888888888,
              "#fdca26"
             ],
             [
              1,
              "#f0f921"
             ]
            ],
            "type": "histogram2dcontour"
           }
          ],
          "mesh3d": [
           {
            "colorbar": {
             "outlinewidth": 0,
             "ticks": ""
            },
            "type": "mesh3d"
           }
          ],
          "parcoords": [
           {
            "line": {
             "colorbar": {
              "outlinewidth": 0,
              "ticks": ""
             }
            },
            "type": "parcoords"
           }
          ],
          "pie": [
           {
            "automargin": true,
            "type": "pie"
           }
          ],
          "scatter": [
           {
            "fillpattern": {
             "fillmode": "overlay",
             "size": 10,
             "solidity": 0.2
            },
            "type": "scatter"
           }
          ],
          "scatter3d": [
           {
            "line": {
             "colorbar": {
              "outlinewidth": 0,
              "ticks": ""
             }
            },
            "marker": {
             "colorbar": {
              "outlinewidth": 0,
              "ticks": ""
             }
            },
            "type": "scatter3d"
           }
          ],
          "scattercarpet": [
           {
            "marker": {
             "colorbar": {
              "outlinewidth": 0,
              "ticks": ""
             }
            },
            "type": "scattercarpet"
           }
          ],
          "scattergeo": [
           {
            "marker": {
             "colorbar": {
              "outlinewidth": 0,
              "ticks": ""
             }
            },
            "type": "scattergeo"
           }
          ],
          "scattergl": [
           {
            "marker": {
             "colorbar": {
              "outlinewidth": 0,
              "ticks": ""
             }
            },
            "type": "scattergl"
           }
          ],
          "scattermapbox": [
           {
            "marker": {
             "colorbar": {
              "outlinewidth": 0,
              "ticks": ""
             }
            },
            "type": "scattermapbox"
           }
          ],
          "scatterpolar": [
           {
            "marker": {
             "colorbar": {
              "outlinewidth": 0,
              "ticks": ""
             }
            },
            "type": "scatterpolar"
           }
          ],
          "scatterpolargl": [
           {
            "marker": {
             "colorbar": {
              "outlinewidth": 0,
              "ticks": ""
             }
            },
            "type": "scatterpolargl"
           }
          ],
          "scatterternary": [
           {
            "marker": {
             "colorbar": {
              "outlinewidth": 0,
              "ticks": ""
             }
            },
            "type": "scatterternary"
           }
          ],
          "surface": [
           {
            "colorbar": {
             "outlinewidth": 0,
             "ticks": ""
            },
            "colorscale": [
             [
              0,
              "#0d0887"
             ],
             [
              0.1111111111111111,
              "#46039f"
             ],
             [
              0.2222222222222222,
              "#7201a8"
             ],
             [
              0.3333333333333333,
              "#9c179e"
             ],
             [
              0.4444444444444444,
              "#bd3786"
             ],
             [
              0.5555555555555556,
              "#d8576b"
             ],
             [
              0.6666666666666666,
              "#ed7953"
             ],
             [
              0.7777777777777778,
              "#fb9f3a"
             ],
             [
              0.8888888888888888,
              "#fdca26"
             ],
             [
              1,
              "#f0f921"
             ]
            ],
            "type": "surface"
           }
          ],
          "table": [
           {
            "cells": {
             "fill": {
              "color": "#EBF0F8"
             },
             "line": {
              "color": "white"
             }
            },
            "header": {
             "fill": {
              "color": "#C8D4E3"
             },
             "line": {
              "color": "white"
             }
            },
            "type": "table"
           }
          ]
         },
         "layout": {
          "annotationdefaults": {
           "arrowcolor": "#2a3f5f",
           "arrowhead": 0,
           "arrowwidth": 1
          },
          "autotypenumbers": "strict",
          "coloraxis": {
           "colorbar": {
            "outlinewidth": 0,
            "ticks": ""
           }
          },
          "colorscale": {
           "diverging": [
            [
             0,
             "#8e0152"
            ],
            [
             0.1,
             "#c51b7d"
            ],
            [
             0.2,
             "#de77ae"
            ],
            [
             0.3,
             "#f1b6da"
            ],
            [
             0.4,
             "#fde0ef"
            ],
            [
             0.5,
             "#f7f7f7"
            ],
            [
             0.6,
             "#e6f5d0"
            ],
            [
             0.7,
             "#b8e186"
            ],
            [
             0.8,
             "#7fbc41"
            ],
            [
             0.9,
             "#4d9221"
            ],
            [
             1,
             "#276419"
            ]
           ],
           "sequential": [
            [
             0,
             "#0d0887"
            ],
            [
             0.1111111111111111,
             "#46039f"
            ],
            [
             0.2222222222222222,
             "#7201a8"
            ],
            [
             0.3333333333333333,
             "#9c179e"
            ],
            [
             0.4444444444444444,
             "#bd3786"
            ],
            [
             0.5555555555555556,
             "#d8576b"
            ],
            [
             0.6666666666666666,
             "#ed7953"
            ],
            [
             0.7777777777777778,
             "#fb9f3a"
            ],
            [
             0.8888888888888888,
             "#fdca26"
            ],
            [
             1,
             "#f0f921"
            ]
           ],
           "sequentialminus": [
            [
             0,
             "#0d0887"
            ],
            [
             0.1111111111111111,
             "#46039f"
            ],
            [
             0.2222222222222222,
             "#7201a8"
            ],
            [
             0.3333333333333333,
             "#9c179e"
            ],
            [
             0.4444444444444444,
             "#bd3786"
            ],
            [
             0.5555555555555556,
             "#d8576b"
            ],
            [
             0.6666666666666666,
             "#ed7953"
            ],
            [
             0.7777777777777778,
             "#fb9f3a"
            ],
            [
             0.8888888888888888,
             "#fdca26"
            ],
            [
             1,
             "#f0f921"
            ]
           ]
          },
          "colorway": [
           "#636efa",
           "#EF553B",
           "#00cc96",
           "#ab63fa",
           "#FFA15A",
           "#19d3f3",
           "#FF6692",
           "#B6E880",
           "#FF97FF",
           "#FECB52"
          ],
          "font": {
           "color": "#2a3f5f"
          },
          "geo": {
           "bgcolor": "white",
           "lakecolor": "white",
           "landcolor": "#E5ECF6",
           "showlakes": true,
           "showland": true,
           "subunitcolor": "white"
          },
          "hoverlabel": {
           "align": "left"
          },
          "hovermode": "closest",
          "mapbox": {
           "style": "light"
          },
          "paper_bgcolor": "white",
          "plot_bgcolor": "#E5ECF6",
          "polar": {
           "angularaxis": {
            "gridcolor": "white",
            "linecolor": "white",
            "ticks": ""
           },
           "bgcolor": "#E5ECF6",
           "radialaxis": {
            "gridcolor": "white",
            "linecolor": "white",
            "ticks": ""
           }
          },
          "scene": {
           "xaxis": {
            "backgroundcolor": "#E5ECF6",
            "gridcolor": "white",
            "gridwidth": 2,
            "linecolor": "white",
            "showbackground": true,
            "ticks": "",
            "zerolinecolor": "white"
           },
           "yaxis": {
            "backgroundcolor": "#E5ECF6",
            "gridcolor": "white",
            "gridwidth": 2,
            "linecolor": "white",
            "showbackground": true,
            "ticks": "",
            "zerolinecolor": "white"
           },
           "zaxis": {
            "backgroundcolor": "#E5ECF6",
            "gridcolor": "white",
            "gridwidth": 2,
            "linecolor": "white",
            "showbackground": true,
            "ticks": "",
            "zerolinecolor": "white"
           }
          },
          "shapedefaults": {
           "line": {
            "color": "#2a3f5f"
           }
          },
          "ternary": {
           "aaxis": {
            "gridcolor": "white",
            "linecolor": "white",
            "ticks": ""
           },
           "baxis": {
            "gridcolor": "white",
            "linecolor": "white",
            "ticks": ""
           },
           "bgcolor": "#E5ECF6",
           "caxis": {
            "gridcolor": "white",
            "linecolor": "white",
            "ticks": ""
           }
          },
          "title": {
           "x": 0.05
          },
          "xaxis": {
           "automargin": true,
           "gridcolor": "white",
           "linecolor": "white",
           "ticks": "",
           "title": {
            "standoff": 15
           },
           "zerolinecolor": "white",
           "zerolinewidth": 2
          },
          "yaxis": {
           "automargin": true,
           "gridcolor": "white",
           "linecolor": "white",
           "ticks": "",
           "title": {
            "standoff": 15
           },
           "zerolinecolor": "white",
           "zerolinewidth": 2
          }
         }
        },
        "title": {
         "text": "WAP of stock_id_0, time_id_5"
        },
        "xaxis": {
         "anchor": "y",
         "domain": [
          0,
          1
         ],
         "title": {
          "text": "seconds_in_bucket"
         }
        },
        "yaxis": {
         "anchor": "x",
         "domain": [
          0,
          1
         ],
         "title": {
          "text": "log_return"
         }
        }
       }
      }
     },
     "metadata": {},
     "output_type": "display_data"
    }
   ],
   "source": [
    "book_train_example['log_return'] = np.log(book_train_example['wap'])-np.log(book_train_example['wap'].shift(1))\n",
    "book_train_example.dropna(subset=['log_return'])\n",
    "\n",
    "fig1 = px.line(book_train_example, x=\"seconds_in_bucket\", y=\"log_return\", title='WAP of stock_id_0, time_id_5')\n",
    "fig1.show()"
   ]
  },
  {
   "cell_type": "code",
   "execution_count": 13,
   "metadata": {},
   "outputs": [
    {
     "data": {
      "text/html": [
       "<div>\n",
       "<style scoped>\n",
       "    .dataframe tbody tr th:only-of-type {\n",
       "        vertical-align: middle;\n",
       "    }\n",
       "\n",
       "    .dataframe tbody tr th {\n",
       "        vertical-align: top;\n",
       "    }\n",
       "\n",
       "    .dataframe thead th {\n",
       "        text-align: right;\n",
       "    }\n",
       "</style>\n",
       "<table border=\"1\" class=\"dataframe\">\n",
       "  <thead>\n",
       "    <tr style=\"text-align: right;\">\n",
       "      <th></th>\n",
       "      <th>time_id</th>\n",
       "      <th>seconds_in_bucket</th>\n",
       "      <th>bid_price1</th>\n",
       "      <th>ask_price1</th>\n",
       "      <th>bid_price2</th>\n",
       "      <th>ask_price2</th>\n",
       "      <th>bid_size1</th>\n",
       "      <th>ask_size1</th>\n",
       "      <th>bid_size2</th>\n",
       "      <th>ask_size2</th>\n",
       "      <th>stock_id</th>\n",
       "      <th>wap</th>\n",
       "      <th>log_return</th>\n",
       "    </tr>\n",
       "  </thead>\n",
       "  <tbody>\n",
       "    <tr>\n",
       "      <th>302</th>\n",
       "      <td>11</td>\n",
       "      <td>0</td>\n",
       "      <td>0.999473</td>\n",
       "      <td>1.000176</td>\n",
       "      <td>0.999423</td>\n",
       "      <td>1.000376</td>\n",
       "      <td>205</td>\n",
       "      <td>100</td>\n",
       "      <td>20</td>\n",
       "      <td>30</td>\n",
       "      <td>0</td>\n",
       "      <td>0.999945</td>\n",
       "      <td>NaN</td>\n",
       "    </tr>\n",
       "    <tr>\n",
       "      <th>303</th>\n",
       "      <td>11</td>\n",
       "      <td>3</td>\n",
       "      <td>0.999473</td>\n",
       "      <td>1.000176</td>\n",
       "      <td>0.999423</td>\n",
       "      <td>1.000376</td>\n",
       "      <td>200</td>\n",
       "      <td>100</td>\n",
       "      <td>20</td>\n",
       "      <td>30</td>\n",
       "      <td>0</td>\n",
       "      <td>0.999941</td>\n",
       "      <td>-0.000004</td>\n",
       "    </tr>\n",
       "    <tr>\n",
       "      <th>304</th>\n",
       "      <td>11</td>\n",
       "      <td>13</td>\n",
       "      <td>0.999473</td>\n",
       "      <td>1.000326</td>\n",
       "      <td>0.999423</td>\n",
       "      <td>1.000376</td>\n",
       "      <td>200</td>\n",
       "      <td>100</td>\n",
       "      <td>20</td>\n",
       "      <td>30</td>\n",
       "      <td>0</td>\n",
       "      <td>1.000042</td>\n",
       "      <td>0.000100</td>\n",
       "    </tr>\n",
       "    <tr>\n",
       "      <th>305</th>\n",
       "      <td>11</td>\n",
       "      <td>18</td>\n",
       "      <td>0.999473</td>\n",
       "      <td>1.000025</td>\n",
       "      <td>0.999423</td>\n",
       "      <td>1.000376</td>\n",
       "      <td>200</td>\n",
       "      <td>100</td>\n",
       "      <td>20</td>\n",
       "      <td>30</td>\n",
       "      <td>0</td>\n",
       "      <td>0.999841</td>\n",
       "      <td>-0.000201</td>\n",
       "    </tr>\n",
       "    <tr>\n",
       "      <th>306</th>\n",
       "      <td>11</td>\n",
       "      <td>28</td>\n",
       "      <td>0.999473</td>\n",
       "      <td>1.000326</td>\n",
       "      <td>0.999423</td>\n",
       "      <td>1.000376</td>\n",
       "      <td>200</td>\n",
       "      <td>100</td>\n",
       "      <td>20</td>\n",
       "      <td>30</td>\n",
       "      <td>0</td>\n",
       "      <td>1.000042</td>\n",
       "      <td>0.000201</td>\n",
       "    </tr>\n",
       "    <tr>\n",
       "      <th>...</th>\n",
       "      <td>...</td>\n",
       "      <td>...</td>\n",
       "      <td>...</td>\n",
       "      <td>...</td>\n",
       "      <td>...</td>\n",
       "      <td>...</td>\n",
       "      <td>...</td>\n",
       "      <td>...</td>\n",
       "      <td>...</td>\n",
       "      <td>...</td>\n",
       "      <td>...</td>\n",
       "      <td>...</td>\n",
       "      <td>...</td>\n",
       "    </tr>\n",
       "    <tr>\n",
       "      <th>497</th>\n",
       "      <td>11</td>\n",
       "      <td>570</td>\n",
       "      <td>1.000025</td>\n",
       "      <td>1.000778</td>\n",
       "      <td>0.999975</td>\n",
       "      <td>1.000878</td>\n",
       "      <td>309</td>\n",
       "      <td>10</td>\n",
       "      <td>120</td>\n",
       "      <td>44</td>\n",
       "      <td>0</td>\n",
       "      <td>1.000754</td>\n",
       "      <td>0.000000</td>\n",
       "    </tr>\n",
       "    <tr>\n",
       "      <th>498</th>\n",
       "      <td>11</td>\n",
       "      <td>574</td>\n",
       "      <td>1.000025</td>\n",
       "      <td>1.000778</td>\n",
       "      <td>0.999975</td>\n",
       "      <td>1.000878</td>\n",
       "      <td>200</td>\n",
       "      <td>10</td>\n",
       "      <td>120</td>\n",
       "      <td>44</td>\n",
       "      <td>0</td>\n",
       "      <td>1.000742</td>\n",
       "      <td>-0.000012</td>\n",
       "    </tr>\n",
       "    <tr>\n",
       "      <th>499</th>\n",
       "      <td>11</td>\n",
       "      <td>584</td>\n",
       "      <td>1.000276</td>\n",
       "      <td>1.000778</td>\n",
       "      <td>0.999975</td>\n",
       "      <td>1.000878</td>\n",
       "      <td>1</td>\n",
       "      <td>32</td>\n",
       "      <td>120</td>\n",
       "      <td>84</td>\n",
       "      <td>0</td>\n",
       "      <td>1.000291</td>\n",
       "      <td>-0.000451</td>\n",
       "    </tr>\n",
       "    <tr>\n",
       "      <th>500</th>\n",
       "      <td>11</td>\n",
       "      <td>585</td>\n",
       "      <td>1.000276</td>\n",
       "      <td>1.000778</td>\n",
       "      <td>0.999975</td>\n",
       "      <td>1.000878</td>\n",
       "      <td>1</td>\n",
       "      <td>32</td>\n",
       "      <td>120</td>\n",
       "      <td>44</td>\n",
       "      <td>0</td>\n",
       "      <td>1.000291</td>\n",
       "      <td>0.000000</td>\n",
       "    </tr>\n",
       "    <tr>\n",
       "      <th>501</th>\n",
       "      <td>11</td>\n",
       "      <td>596</td>\n",
       "      <td>1.000276</td>\n",
       "      <td>1.000778</td>\n",
       "      <td>0.999975</td>\n",
       "      <td>1.000878</td>\n",
       "      <td>2</td>\n",
       "      <td>32</td>\n",
       "      <td>120</td>\n",
       "      <td>52</td>\n",
       "      <td>0</td>\n",
       "      <td>1.000306</td>\n",
       "      <td>0.000014</td>\n",
       "    </tr>\n",
       "  </tbody>\n",
       "</table>\n",
       "<p>200 rows × 13 columns</p>\n",
       "</div>"
      ],
      "text/plain": [
       "     time_id  seconds_in_bucket  bid_price1  ask_price1  bid_price2  \\\n",
       "302       11                  0    0.999473    1.000176    0.999423   \n",
       "303       11                  3    0.999473    1.000176    0.999423   \n",
       "304       11                 13    0.999473    1.000326    0.999423   \n",
       "305       11                 18    0.999473    1.000025    0.999423   \n",
       "306       11                 28    0.999473    1.000326    0.999423   \n",
       "..       ...                ...         ...         ...         ...   \n",
       "497       11                570    1.000025    1.000778    0.999975   \n",
       "498       11                574    1.000025    1.000778    0.999975   \n",
       "499       11                584    1.000276    1.000778    0.999975   \n",
       "500       11                585    1.000276    1.000778    0.999975   \n",
       "501       11                596    1.000276    1.000778    0.999975   \n",
       "\n",
       "     ask_price2  bid_size1  ask_size1  bid_size2  ask_size2  stock_id  \\\n",
       "302    1.000376        205        100         20         30         0   \n",
       "303    1.000376        200        100         20         30         0   \n",
       "304    1.000376        200        100         20         30         0   \n",
       "305    1.000376        200        100         20         30         0   \n",
       "306    1.000376        200        100         20         30         0   \n",
       "..          ...        ...        ...        ...        ...       ...   \n",
       "497    1.000878        309         10        120         44         0   \n",
       "498    1.000878        200         10        120         44         0   \n",
       "499    1.000878          1         32        120         84         0   \n",
       "500    1.000878          1         32        120         44         0   \n",
       "501    1.000878          2         32        120         52         0   \n",
       "\n",
       "          wap  log_return  \n",
       "302  0.999945         NaN  \n",
       "303  0.999941   -0.000004  \n",
       "304  1.000042    0.000100  \n",
       "305  0.999841   -0.000201  \n",
       "306  1.000042    0.000201  \n",
       "..        ...         ...  \n",
       "497  1.000754    0.000000  \n",
       "498  1.000742   -0.000012  \n",
       "499  1.000291   -0.000451  \n",
       "500  1.000291    0.000000  \n",
       "501  1.000306    0.000014  \n",
       "\n",
       "[200 rows x 13 columns]"
      ]
     },
     "execution_count": 13,
     "metadata": {},
     "output_type": "execute_result"
    }
   ],
   "source": [
    "book_train_example"
   ]
  },
  {
   "cell_type": "code",
   "execution_count": 14,
   "metadata": {},
   "outputs": [
    {
     "name": "stdout",
     "output_type": "stream",
     "text": [
      "The predicted realized volatility value for stock 0 at time 5 is 0.0012044312600105803.\n"
     ]
    }
   ],
   "source": [
    "def realized_volatility(log_returns):\n",
    "    return np.sqrt(np.sum(log_returns**2))\n",
    "\n",
    "realized_vol = realized_volatility(book_train_example['log_return'])\n",
    "\n",
    "print(f'The predicted realized volatility value for stock 0 at time 5 is {realized_vol}.')"
   ]
  },
  {
   "cell_type": "code",
   "execution_count": 9,
   "metadata": {},
   "outputs": [
    {
     "data": {
      "text/plain": [
       "0.004499364172786559"
      ]
     },
     "execution_count": 9,
     "metadata": {},
     "output_type": "execute_result"
    }
   ],
   "source": [
    "realized_vol"
   ]
  },
  {
   "cell_type": "markdown",
   "metadata": {},
   "source": [
    "## 0.2 Naive model"
   ]
  },
  {
   "cell_type": "code",
   "execution_count": null,
   "metadata": {},
   "outputs": [],
   "source": [
    "import glob\n",
    "from sklearn.metrics import r2_score\n",
    "\n",
    "list_order_book_train = glob.glob(\n",
    "    'optiver-realized-volatility-prediction/book_train.parquet/*')\n",
    "\n",
    "\n",
    "def get_volatility_prediction(file_path):\n",
    "    book_train = pd.read_parquet(file_path)\n",
    "    book_train['wap'] = (book_train['bid_price1'] * book_train['ask_size1'] +\n",
    "                         book_train['ask_price1'] * book_train['bid_size1']) / (\n",
    "        book_train['bid_size1'] + book_train['ask_size1'])\n",
    "\n",
    "    book_train['log_return'] =book_train.groupby(['time_id'])['wap'].transform(lambda x: np.log(x) - np.log(x.shift(1)))\n",
    "    \n",
    "    book_train.dropna(subset=['log_return'])\n",
    "    \n",
    "    prediction_pd= pd.DataFrame(book_train.groupby(['time_id'])[\n",
    "                              'log_return'].agg(realized_volatility)).reset_index()\n",
    "    prediction_pd = prediction_pd.rename(columns={'log_return':'pred'})\n",
    "    stock_id = file_path.split('=')[1]\n",
    "    prediction_pd['row_id']=prediction_pd['time_id'].apply(lambda x: f'{stock_id}-{x}')\n",
    "    \n",
    "    return prediction_pd[['row_id','pred']]\n",
    "\n",
    "def all_realized_volatility(file_list):\n",
    "    df_pred = pd.DataFrame()\n",
    "    for file_path in file_list:\n",
    "        df_pred = pd.concat([df_pred,get_volatility_prediction(file_path)],ignore_index=True)\n",
    "        \n",
    "\n",
    "df_realized_pred_train = all_realized_volatility(list_order_book_train)\n",
    "\n",
    "    "
   ]
  },
  {
   "cell_type": "code",
   "execution_count": 46,
   "metadata": {},
   "outputs": [
    {
     "data": {
      "text/html": [
       "<div>\n",
       "<style scoped>\n",
       "    .dataframe tbody tr th:only-of-type {\n",
       "        vertical-align: middle;\n",
       "    }\n",
       "\n",
       "    .dataframe tbody tr th {\n",
       "        vertical-align: top;\n",
       "    }\n",
       "\n",
       "    .dataframe thead th {\n",
       "        text-align: right;\n",
       "    }\n",
       "</style>\n",
       "<table border=\"1\" class=\"dataframe\">\n",
       "  <thead>\n",
       "    <tr style=\"text-align: right;\">\n",
       "      <th></th>\n",
       "      <th>stock_id</th>\n",
       "      <th>time_id</th>\n",
       "      <th>target</th>\n",
       "    </tr>\n",
       "  </thead>\n",
       "  <tbody>\n",
       "    <tr>\n",
       "      <th>0</th>\n",
       "      <td>0</td>\n",
       "      <td>5</td>\n",
       "      <td>0.004136</td>\n",
       "    </tr>\n",
       "    <tr>\n",
       "      <th>1</th>\n",
       "      <td>0</td>\n",
       "      <td>11</td>\n",
       "      <td>0.001445</td>\n",
       "    </tr>\n",
       "    <tr>\n",
       "      <th>2</th>\n",
       "      <td>0</td>\n",
       "      <td>16</td>\n",
       "      <td>0.002168</td>\n",
       "    </tr>\n",
       "    <tr>\n",
       "      <th>3</th>\n",
       "      <td>0</td>\n",
       "      <td>31</td>\n",
       "      <td>0.002195</td>\n",
       "    </tr>\n",
       "    <tr>\n",
       "      <th>4</th>\n",
       "      <td>0</td>\n",
       "      <td>62</td>\n",
       "      <td>0.001747</td>\n",
       "    </tr>\n",
       "  </tbody>\n",
       "</table>\n",
       "</div>"
      ],
      "text/plain": [
       "   stock_id  time_id    target\n",
       "0         0        5  0.004136\n",
       "1         0       11  0.001445\n",
       "2         0       16  0.002168\n",
       "3         0       31  0.002195\n",
       "4         0       62  0.001747"
      ]
     },
     "execution_count": 46,
     "metadata": {},
     "output_type": "execute_result"
    }
   ],
   "source": [
    "def rmspe(y_true, y_pred):\n",
    "    return  (np.sqrt(np.mean(np.square((y_true - y_pred) / y_true))))\n",
    "\n",
    "train.head()"
   ]
  },
  {
   "cell_type": "code",
   "execution_count": 47,
   "metadata": {},
   "outputs": [],
   "source": [
    "train['row_id'] = train['stock_id'].astype(str) + '-' + train['time_id'].astype(str)\n",
    "train = train[['row_id','target']]\n",
    "df_joined = train.merge(df_realized_pred_train[['row_id','pred']], on = ['row_id'], how = 'left')"
   ]
  },
  {
   "cell_type": "code",
   "execution_count": 48,
   "metadata": {},
   "outputs": [
    {
     "name": "stdout",
     "output_type": "stream",
     "text": [
      "Performance of the naive prediction: R2 score: 0.628, RMSPE: 0.341\n"
     ]
    }
   ],
   "source": [
    "R2 = round(r2_score(y_true = df_joined['target'], y_pred = df_joined['pred']),3)\n",
    "RMSPE = round(rmspe(y_true = df_joined['target'], y_pred = df_joined['pred']),3)\n",
    "print(f'Performance of the naive prediction: R2 score: {R2}, RMSPE: {RMSPE}')"
   ]
  }
 ],
 "metadata": {
  "kernelspec": {
   "display_name": "base",
   "language": "python",
   "name": "python3"
  },
  "language_info": {
   "codemirror_mode": {
    "name": "ipython",
    "version": 3
   },
   "file_extension": ".py",
   "mimetype": "text/x-python",
   "name": "python",
   "nbconvert_exporter": "python",
   "pygments_lexer": "ipython3",
   "version": "3.11.8"
  }
 },
 "nbformat": 4,
 "nbformat_minor": 2
}
